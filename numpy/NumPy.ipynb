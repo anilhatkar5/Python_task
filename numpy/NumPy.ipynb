{
 "cells": [
  {
   "cell_type": "markdown",
   "id": "78468de7",
   "metadata": {},
   "source": [
    "# Numpy\n"
   ]
  },
  {
   "cell_type": "code",
   "execution_count": 17,
   "id": "7250b6b4",
   "metadata": {},
   "outputs": [],
   "source": [
    "import numpy as np"
   ]
  },
  {
   "cell_type": "code",
   "execution_count": 18,
   "id": "84c53c76",
   "metadata": {},
   "outputs": [],
   "source": [
    "np1 = np.array([1,2,3,4,5,6,7,8,9,10])"
   ]
  },
  {
   "cell_type": "code",
   "execution_count": 19,
   "id": "e2b9b0f3",
   "metadata": {},
   "outputs": [
    {
     "data": {
      "text/plain": [
       "array([ 1,  2,  3,  4,  5,  6,  7,  8,  9, 10])"
      ]
     },
     "execution_count": 19,
     "metadata": {},
     "output_type": "execute_result"
    }
   ],
   "source": [
    "np1"
   ]
  },
  {
   "cell_type": "code",
   "execution_count": 20,
   "id": "b13d7e01",
   "metadata": {},
   "outputs": [
    {
     "data": {
      "text/plain": [
       "numpy.ndarray"
      ]
     },
     "execution_count": 20,
     "metadata": {},
     "output_type": "execute_result"
    }
   ],
   "source": [
    "type(np1)"
   ]
  },
  {
   "cell_type": "code",
   "execution_count": 21,
   "id": "877b72a9",
   "metadata": {},
   "outputs": [],
   "source": [
    "mat1 = np.array([[1,2,3], [3,4,6]])"
   ]
  },
  {
   "cell_type": "code",
   "execution_count": 22,
   "id": "3fe4332f",
   "metadata": {},
   "outputs": [
    {
     "data": {
      "text/plain": [
       "array([[1, 2, 3],\n",
       "       [3, 4, 6]])"
      ]
     },
     "execution_count": 22,
     "metadata": {},
     "output_type": "execute_result"
    }
   ],
   "source": [
    "mat1"
   ]
  },
  {
   "cell_type": "code",
   "execution_count": 23,
   "id": "cbffd117",
   "metadata": {},
   "outputs": [
    {
     "data": {
      "text/plain": [
       "(10,)"
      ]
     },
     "execution_count": 23,
     "metadata": {},
     "output_type": "execute_result"
    }
   ],
   "source": [
    "np1.shape"
   ]
  },
  {
   "cell_type": "code",
   "execution_count": 24,
   "id": "267a819f",
   "metadata": {},
   "outputs": [
    {
     "data": {
      "text/plain": [
       "(2, 3)"
      ]
     },
     "execution_count": 24,
     "metadata": {},
     "output_type": "execute_result"
    }
   ],
   "source": [
    "mat1.shape"
   ]
  },
  {
   "cell_type": "code",
   "execution_count": 25,
   "id": "1e1a501d",
   "metadata": {},
   "outputs": [
    {
     "data": {
      "text/plain": [
       "dtype('int32')"
      ]
     },
     "execution_count": 25,
     "metadata": {},
     "output_type": "execute_result"
    }
   ],
   "source": [
    "mat1.dtype"
   ]
  },
  {
   "cell_type": "code",
   "execution_count": 26,
   "id": "d0c74554",
   "metadata": {},
   "outputs": [
    {
     "data": {
      "text/plain": [
       "dtype('int32')"
      ]
     },
     "execution_count": 26,
     "metadata": {},
     "output_type": "execute_result"
    }
   ],
   "source": [
    "np1.dtype"
   ]
  },
  {
   "cell_type": "code",
   "execution_count": 27,
   "id": "39f66f2b",
   "metadata": {},
   "outputs": [],
   "source": [
    "mat1[0,0] = 11"
   ]
  },
  {
   "cell_type": "code",
   "execution_count": 28,
   "id": "f46bd573",
   "metadata": {},
   "outputs": [
    {
     "data": {
      "text/plain": [
       "array([[11,  2,  3],\n",
       "       [ 3,  4,  6]])"
      ]
     },
     "execution_count": 28,
     "metadata": {},
     "output_type": "execute_result"
    }
   ],
   "source": [
    "mat1"
   ]
  },
  {
   "cell_type": "code",
   "execution_count": 29,
   "id": "e3253f4c",
   "metadata": {},
   "outputs": [
    {
     "ename": "ValueError",
     "evalue": "invalid literal for int() with base 10: 'text'",
     "output_type": "error",
     "traceback": [
      "\u001b[1;31m---------------------------------------------------------------------------\u001b[0m",
      "\u001b[1;31mValueError\u001b[0m                                Traceback (most recent call last)",
      "Cell \u001b[1;32mIn[29], line 1\u001b[0m\n\u001b[1;32m----> 1\u001b[0m \u001b[43mmat1\u001b[49m\u001b[43m[\u001b[49m\u001b[38;5;241;43m0\u001b[39;49m\u001b[43m,\u001b[49m\u001b[38;5;241;43m2\u001b[39;49m\u001b[43m]\u001b[49m \u001b[38;5;241m=\u001b[39m \u001b[38;5;124m\"\u001b[39m\u001b[38;5;124mtext\u001b[39m\u001b[38;5;124m\"\u001b[39m\n",
      "\u001b[1;31mValueError\u001b[0m: invalid literal for int() with base 10: 'text'"
     ]
    }
   ],
   "source": [
    "mat1[0,2] = \"text\""
   ]
  },
  {
   "cell_type": "code",
   "execution_count": null,
   "id": "6ea9ff5f",
   "metadata": {},
   "outputs": [],
   "source": [
    "mat2 = np.arange(0,10,1)"
   ]
  },
  {
   "cell_type": "code",
   "execution_count": null,
   "id": "75768d1e",
   "metadata": {},
   "outputs": [
    {
     "data": {
      "text/plain": [
       "array([0, 1, 2, 3, 4, 5, 6, 7, 8, 9])"
      ]
     },
     "execution_count": 23,
     "metadata": {},
     "output_type": "execute_result"
    }
   ],
   "source": [
    "mat2"
   ]
  },
  {
   "cell_type": "code",
   "execution_count": null,
   "id": "64053782",
   "metadata": {},
   "outputs": [],
   "source": [
    "mat3 = np.linspace(0,10,20)"
   ]
  },
  {
   "cell_type": "code",
   "execution_count": null,
   "metadata": {},
   "outputs": [
    {
     "data": {
      "text/plain": [
       "array([ 0.        ,  0.52631579,  1.05263158,  1.57894737,  2.10526316,\n",
       "        2.63157895,  3.15789474,  3.68421053,  4.21052632,  4.73684211,\n",
       "        5.26315789,  5.78947368,  6.31578947,  6.84210526,  7.36842105,\n",
       "        7.89473684,  8.42105263,  8.94736842,  9.47368421, 10.        ])"
      ]
     },
     "execution_count": 15,
     "metadata": {},
     "output_type": "execute_result"
    }
   ],
   "source": [
    "mat3"
   ]
  },
  {
   "cell_type": "code",
   "execution_count": null,
   "metadata": {},
   "outputs": [
    {
     "data": {
      "text/plain": [
       "(20,)"
      ]
     },
     "execution_count": 16,
     "metadata": {},
     "output_type": "execute_result"
    }
   ],
   "source": [
    "mat3.shape"
   ]
  },
  {
   "cell_type": "code",
   "execution_count": null,
   "metadata": {},
   "outputs": [],
   "source": [
    "mat4 = np.random.rand(5,5)"
   ]
  },
  {
   "cell_type": "code",
   "execution_count": null,
   "metadata": {},
   "outputs": [
    {
     "data": {
      "text/plain": [
       "array([[0.61761218, 0.42395279, 0.27059258, 0.20472064, 0.46942191],\n",
       "       [0.06158964, 0.45174256, 0.00635951, 0.64404021, 0.49920793],\n",
       "       [0.41982622, 0.92055791, 0.83843585, 0.01338051, 0.95010242],\n",
       "       [0.40354726, 0.58540865, 0.40085136, 0.46323758, 0.64874763],\n",
       "       [0.04230792, 0.9692767 , 0.17822249, 0.85345217, 0.87258853]])"
      ]
     },
     "execution_count": 18,
     "metadata": {},
     "output_type": "execute_result"
    }
   ],
   "source": [
    "mat4"
   ]
  },
  {
   "cell_type": "code",
   "execution_count": null,
   "metadata": {},
   "outputs": [],
   "source": [
    "mat5= np.random.randn(5,5)"
   ]
  },
  {
   "cell_type": "code",
   "execution_count": null,
   "metadata": {},
   "outputs": [
    {
     "data": {
      "text/plain": [
       "array([[ 1.84704494, -0.03987036, -1.45075873,  0.69943126,  0.62793796],\n",
       "       [-0.01655361,  0.99966914,  0.77977907, -0.17830769,  1.23840825],\n",
       "       [ 1.4976991 ,  0.87666657, -2.31454295, -0.02741284, -0.55065694],\n",
       "       [-0.76793942,  1.56414697,  0.64166878,  0.36633073,  0.0706921 ],\n",
       "       [-1.32667076, -0.92510432,  0.8886739 , -1.10535478,  0.79368455]])"
      ]
     },
     "execution_count": 20,
     "metadata": {},
     "output_type": "execute_result"
    }
   ],
   "source": [
    "mat5"
   ]
  },
  {
   "cell_type": "code",
   "execution_count": null,
   "metadata": {},
   "outputs": [
    {
     "data": {
      "text/plain": [
       "1.847044937791627"
      ]
     },
     "execution_count": 21,
     "metadata": {},
     "output_type": "execute_result"
    }
   ],
   "source": [
    "mat5[0,0]"
   ]
  },
  {
   "cell_type": "code",
   "execution_count": null,
   "metadata": {},
   "outputs": [
    {
     "data": {
      "text/plain": [
       "-0.03987036468165672"
      ]
     },
     "execution_count": 22,
     "metadata": {},
     "output_type": "execute_result"
    }
   ],
   "source": [
    "mat5[0,1]"
   ]
  },
  {
   "cell_type": "code",
   "execution_count": null,
   "metadata": {},
   "outputs": [
    {
     "data": {
      "text/plain": [
       "array([[ 1.84704494, -0.03987036, -1.45075873,  0.69943126,  0.62793796],\n",
       "       [-0.01655361,  0.99966914,  0.77977907, -0.17830769,  1.23840825],\n",
       "       [ 1.4976991 ,  0.87666657, -2.31454295, -0.02741284, -0.55065694]])"
      ]
     },
     "execution_count": 23,
     "metadata": {},
     "output_type": "execute_result"
    }
   ],
   "source": [
    "mat5[0:3]"
   ]
  },
  {
   "cell_type": "code",
   "execution_count": null,
   "metadata": {},
   "outputs": [
    {
     "data": {
      "text/plain": [
       "array([[ 1.84704494, -0.03987036, -1.45075873,  0.69943126,  0.62793796],\n",
       "       [-0.01655361,  0.99966914,  0.77977907, -0.17830769,  1.23840825],\n",
       "       [ 1.4976991 ,  0.87666657, -2.31454295, -0.02741284, -0.55065694]])"
      ]
     },
     "execution_count": 24,
     "metadata": {},
     "output_type": "execute_result"
    }
   ],
   "source": [
    "mat5[0:3,:]"
   ]
  },
  {
   "cell_type": "code",
   "execution_count": null,
   "metadata": {},
   "outputs": [
    {
     "data": {
      "text/plain": [
       "array([[-0.03987036],\n",
       "       [ 0.99966914],\n",
       "       [ 0.87666657]])"
      ]
     },
     "execution_count": 28,
     "metadata": {},
     "output_type": "execute_result"
    }
   ],
   "source": [
    "mat5[0:3,1:2]"
   ]
  },
  {
   "cell_type": "markdown",
   "metadata": {},
   "source": [
    "# ***Numpy***"
   ]
  },
  {
   "cell_type": "markdown",
   "metadata": {},
   "source": [
    "**1. Array Creation**"
   ]
  },
  {
   "cell_type": "markdown",
   "metadata": {},
   "source": [
    "- `np.array`: Creates a NumPy array, which is a multi-dimensional, homogeneous data structure that can hold various types of elements.\n",
    "\n",
    "https://numpy.org/doc/stable/reference/generated/numpy.array.html"
   ]
  },
  {
   "cell_type": "code",
   "execution_count": null,
   "metadata": {},
   "outputs": [
    {
     "name": "stdout",
     "output_type": "stream",
     "text": [
      "NumPy Array: [1 2 3 4 5]\n"
     ]
    }
   ],
   "source": [
    "import numpy as np\n",
    "\n",
    "# Create a NumPy array\n",
    "arr = np.array([1, 2, 3, 4, 5])\n",
    "print(\"NumPy Array:\", arr)"
   ]
  },
  {
   "cell_type": "markdown",
   "metadata": {},
   "source": [
    "- `np.zeros`: Generates an array filled with zeros of a specified shape.\n",
    "\n",
    "https://numpy.org/doc/stable/reference/generated/numpy.zeros.html"
   ]
  },
  {
   "cell_type": "code",
   "execution_count": null,
   "metadata": {},
   "outputs": [
    {
     "name": "stdout",
     "output_type": "stream",
     "text": [
      "Zeros Array:\n",
      "[[0. 0. 0. 0.]\n",
      " [0. 0. 0. 0.]\n",
      " [0. 0. 0. 0.]]\n"
     ]
    }
   ],
   "source": [
    "# Create an array of zeros\n",
    "zeros_arr = np.zeros((3, 4))  # 3 rows, 4 columns\n",
    "print(\"Zeros Array:\")\n",
    "print(zeros_arr)"
   ]
  },
  {
   "cell_type": "markdown",
   "metadata": {},
   "source": [
    "\n",
    "- `np.ones`: Creates an array filled with ones of a specified shape.\n",
    "\n",
    "https://numpy.org/doc/stable/reference/generated/numpy.ones.html"
   ]
  },
  {
   "cell_type": "code",
   "execution_count": null,
   "metadata": {},
   "outputs": [
    {
     "name": "stdout",
     "output_type": "stream",
     "text": [
      "Ones Array:\n",
      "[[1. 1. 1.]\n",
      " [1. 1. 1.]]\n"
     ]
    }
   ],
   "source": [
    "# Create an array of ones\n",
    "ones_arr = np.ones((2, 3))  # 2 rows, 3 columns\n",
    "print(\"Ones Array:\")\n",
    "print(ones_arr)"
   ]
  },
  {
   "cell_type": "markdown",
   "metadata": {},
   "source": [
    "- `np.random.rand`: Generates random numbers in a specified shape from a uniform distribution over [0, 1).\n",
    "\n",
    "https://numpy.org/doc/stable/reference/random/generated/numpy.random.rand.html"
   ]
  },
  {
   "cell_type": "code",
   "execution_count": null,
   "metadata": {},
   "outputs": [
    {
     "name": "stdout",
     "output_type": "stream",
     "text": [
      "Random Array:\n",
      "[[0.26388855 0.38596886]\n",
      " [0.68386045 0.82163579]\n",
      " [0.50704366 0.65502226]]\n"
     ]
    }
   ],
   "source": [
    "# Generate random numbers between 0 and 1\n",
    "random_arr = np.random.rand(3, 2)  # 3 rows, 2 columns\n",
    "print(\"Random Array:\")\n",
    "print(random_arr)\n"
   ]
  },
  {
   "cell_type": "markdown",
   "metadata": {},
   "source": [
    "**2. Array Operations**"
   ]
  },
  {
   "cell_type": "code",
   "execution_count": null,
   "metadata": {},
   "outputs": [],
   "source": [
    "# Create two NumPy arrays\n",
    "arr1 = np.array([1, 2, 3])\n",
    "arr2 = np.array([4, 5, 6])"
   ]
  },
  {
   "cell_type": "markdown",
   "metadata": {},
   "source": [
    "- `np.add`: Element-wise addition of two arrays or a scalar and an array.\n",
    "\n",
    "https://numpy.org/doc/stable/reference/generated/numpy.add.html"
   ]
  },
  {
   "cell_type": "code",
   "execution_count": null,
   "metadata": {},
   "outputs": [
    {
     "name": "stdout",
     "output_type": "stream",
     "text": [
      "Addition Result: [5 7 9]\n"
     ]
    }
   ],
   "source": [
    "# Perform element-wise addition\n",
    "add_result = np.add(arr1, arr2)\n",
    "print(\"Addition Result:\", add_result)\n"
   ]
  },
  {
   "cell_type": "markdown",
   "metadata": {},
   "source": [
    "- `np.subtract`: Element-wise subtraction of one array from another or a scalar from an array.\n",
    "\n",
    "https://numpy.org/doc/stable/reference/generated/numpy.subtract.html"
   ]
  },
  {
   "cell_type": "code",
   "execution_count": null,
   "metadata": {},
   "outputs": [
    {
     "name": "stdout",
     "output_type": "stream",
     "text": [
      "Subtraction Result: [3 3 3]\n"
     ]
    }
   ],
   "source": [
    "# Perform element-wise subtraction\n",
    "subtract_result = np.subtract(arr2, arr1)\n",
    "print(\"Subtraction Result:\", subtract_result)"
   ]
  },
  {
   "cell_type": "markdown",
   "metadata": {},
   "source": [
    "- `np.multiply`: Element-wise multiplication of two arrays or a scalar and an array.\n",
    "\n",
    "https://numpy.org/doc/stable/reference/generated/numpy.multiply.html"
   ]
  },
  {
   "cell_type": "code",
   "execution_count": null,
   "metadata": {},
   "outputs": [
    {
     "name": "stdout",
     "output_type": "stream",
     "text": [
      "Multiplication Result: [ 4 10 18]\n"
     ]
    }
   ],
   "source": [
    "# Perform element-wise multiplication\n",
    "multiply_result = np.multiply(arr1, arr2)\n",
    "print(\"Multiplication Result:\", multiply_result)"
   ]
  },
  {
   "cell_type": "markdown",
   "metadata": {},
   "source": [
    "- `np.divide`: Element-wise division of one array by another or a scalar by an array.\n",
    "\n",
    "https://numpy.org/doc/stable/reference/generated/numpy.divide.html"
   ]
  },
  {
   "cell_type": "code",
   "execution_count": null,
   "metadata": {},
   "outputs": [
    {
     "name": "stdout",
     "output_type": "stream",
     "text": [
      "Division Result: [4.  2.5 2. ]\n"
     ]
    }
   ],
   "source": [
    "# Perform element-wise division\n",
    "divide_result = np.divide(arr2, arr1)\n",
    "print(\"Division Result:\", divide_result)"
   ]
  },
  {
   "cell_type": "markdown",
   "metadata": {},
   "source": [
    "- `np.sqrt`: Computes the element-wise square root of an array.\n",
    "\n",
    "https://numpy.org/doc/stable/reference/generated/numpy.sqrt.html"
   ]
  },
  {
   "cell_type": "code",
   "execution_count": null,
   "metadata": {},
   "outputs": [
    {
     "name": "stdout",
     "output_type": "stream",
     "text": [
      "Square Root Result: [1.41421356 2.         2.44948974]\n"
     ]
    }
   ],
   "source": [
    "# Compute element-wise square root\n",
    "arSq = np.array([2,4,6])\n",
    "sqrt_result = np.sqrt(arSq)\n",
    "print(\"Square Root Result:\", sqrt_result)"
   ]
  },
  {
   "cell_type": "code",
   "execution_count": null,
   "metadata": {},
   "outputs": [],
   "source": [
    "# Create a 2D array\n",
    "arr = np.array([[1, 2, 3], [4, 5, 6]])"
   ]
  },
  {
   "cell_type": "markdown",
   "metadata": {},
   "source": [
    "- `ndarray.shape`: Returns a tuple representing the dimensions of the array.\n",
    "\n",
    "https://numpy.org/doc/stable/reference/generated/numpy.ndarray.shape.html"
   ]
  },
  {
   "cell_type": "code",
   "execution_count": null,
   "metadata": {},
   "outputs": [
    {
     "name": "stdout",
     "output_type": "stream",
     "text": [
      "Array Shape: (2, 3)\n"
     ]
    }
   ],
   "source": [
    "# Get the shape of the array\n",
    "shape = arr.shape\n",
    "print(\"Array Shape:\", shape)"
   ]
  },
  {
   "cell_type": "markdown",
   "metadata": {},
   "source": [
    "- `ndarray.size`: Returns the total number of elements in the array\n",
    "\n",
    "https://numpy.org/doc/stable/reference/generated/numpy.ndarray.size.html"
   ]
  },
  {
   "cell_type": "code",
   "execution_count": null,
   "metadata": {},
   "outputs": [
    {
     "name": "stdout",
     "output_type": "stream",
     "text": [
      "Array Size: 6\n"
     ]
    }
   ],
   "source": [
    "# Get the total number of elements\n",
    "size = arr.size\n",
    "print(\"Array Size:\", size)"
   ]
  },
  {
   "cell_type": "markdown",
   "metadata": {},
   "source": [
    "- `ndarray.ndim`: Returns the number of dimensions (axes) of the array.\n",
    "\n",
    "https://numpy.org/doc/stable/reference/generated/numpy.ndarray.ndim.html"
   ]
  },
  {
   "cell_type": "code",
   "execution_count": null,
   "metadata": {},
   "outputs": [
    {
     "name": "stdout",
     "output_type": "stream",
     "text": [
      "Number of Dimensions: 1\n"
     ]
    }
   ],
   "source": [
    "# Get the number of dimensions\n",
    "ndim = arr3.ndim\n",
    "print(\"Number of Dimensions:\", ndim)"
   ]
  },
  {
   "cell_type": "markdown",
   "metadata": {},
   "source": [
    "- `ndarray.dtype`: Returns the data type of the elements in the array.\n",
    "\n",
    "https://numpy.org/doc/stable/reference/generated/numpy.ndarray.dtype.html"
   ]
  },
  {
   "cell_type": "code",
   "execution_count": null,
   "metadata": {},
   "outputs": [
    {
     "name": "stdout",
     "output_type": "stream",
     "text": [
      "Data Type: int32\n"
     ]
    }
   ],
   "source": [
    "# Get the data type of the elements\n",
    "dtype = arr.dtype\n",
    "print(\"Data Type:\", dtype)"
   ]
  },
  {
   "cell_type": "markdown",
   "metadata": {},
   "source": [
    "- Indexing (`ndarray[index]`): Allows you to access a specific element in a NumPy ndarray using its index value. The index can be an integer or a tuple of integers for multidimensional arrays.\n",
    "\n",
    "https://numpy.org/doc/stable/reference/arrays.indexing.html"
   ]
  },
  {
   "cell_type": "code",
   "execution_count": null,
   "metadata": {},
   "outputs": [
    {
     "name": "stdout",
     "output_type": "stream",
     "text": [
      "Indexed Element: 3\n",
      "Indexed 2D Element: 6\n"
     ]
    }
   ],
   "source": [
    "# Create a 1D array\n",
    "arr_1d = np.array([1, 2, 3, 4, 5])\n",
    "\n",
    "# Indexing: Access a specific element\n",
    "element = arr_1d[2]  # Access the element at index 2 (3rd element)\n",
    "print(\"Indexed Element:\", element)\n",
    "\n",
    "# Create a 2D array\n",
    "arr_2d = np.array([[1, 2, 3], [4, 5, 6], [7, 8, 9]])\n",
    "\n",
    "# Indexing: Access an element in a 2D array\n",
    "element_2d = arr_2d[1, 2]  # Access the element at row 1, column 2 (6)\n",
    "print(\"Indexed 2D Element:\", element_2d)\n",
    "\n"
   ]
  },
  {
   "cell_type": "markdown",
   "metadata": {},
   "source": [
    "- Slicing (`ndarray[start:end]`): Allows you to extract a portion of a NumPy ndarray using a range of indices. The `start` index is inclusive, and the `end` index is exclusive. This creates a new ndarray that contains the specified slice of elements.\n",
    "\n",
    "https://numpy.org/doc/stable/reference/arrays.indexing.html"
   ]
  },
  {
   "cell_type": "code",
   "execution_count": null,
   "metadata": {},
   "outputs": [
    {
     "name": "stdout",
     "output_type": "stream",
     "text": [
      "Sliced 1D Array: [2 3 4]\n",
      "Sliced 2D Array:\n",
      "[[2 3]\n",
      " [5 6]]\n"
     ]
    }
   ],
   "source": [
    "# Slicing: Extract a portion of a 1D array\n",
    "sliced_1d = arr_1d[1:4]  # Extract elements from index 1 to 3 (exclusive)\n",
    "print(\"Sliced 1D Array:\", sliced_1d)\n",
    "\n",
    "# Slicing: Extract a portion of a 2D array\n",
    "sliced_2d = arr_2d[0:2, 1:3]  # Extract rows 0 to 1 and columns 1 to 2\n",
    "print(\"Sliced 2D Array:\")\n",
    "print(sliced_2d)"
   ]
  },
  {
   "cell_type": "markdown",
   "metadata": {},
   "source": [
    "5. Aggregation and Statistics:"
   ]
  },
  {
   "cell_type": "markdown",
   "metadata": {},
   "source": [
    "- `np.sum`: Computes the sum of array elements along a specified axis or over the entire array.\n",
    "\n",
    "https://numpy.org/doc/stable/reference/generated/numpy.sum.html"
   ]
  },
  {
   "cell_type": "code",
   "execution_count": null,
   "metadata": {},
   "outputs": [
    {
     "name": "stdout",
     "output_type": "stream",
     "text": [
      "Sum: 45\n"
     ]
    }
   ],
   "source": [
    "# Create a 1D array\n",
    "arr = np.array([4, 2, 9, 5, 1, 8, 6, 3, 7])\n",
    "\n",
    "# Compute the sum of array elements\n",
    "sum_result = np.sum(arr)\n",
    "print(\"Sum:\", sum_result)"
   ]
  },
  {
   "cell_type": "markdown",
   "metadata": {},
   "source": [
    "- `np.mean`: Calculates the mean (average) of array elements along a specified axis or over the entire array.\n",
    "\n",
    "https://numpy.org/doc/stable/reference/generated/numpy.mean.html"
   ]
  },
  {
   "cell_type": "code",
   "execution_count": null,
   "metadata": {},
   "outputs": [
    {
     "name": "stdout",
     "output_type": "stream",
     "text": [
      "Mean: 5.0\n"
     ]
    }
   ],
   "source": [
    "# Calculate the mean of array elements\n",
    "mean_result = np.mean(arr)\n",
    "print(\"Mean:\", mean_result)"
   ]
  },
  {
   "cell_type": "markdown",
   "metadata": {},
   "source": [
    "- `np.median`: Computes the median (middle value) of array elements along a specified axis or over the entire array.\n",
    "\n",
    "https://numpy.org/doc/stable/reference/generated/numpy.median.html"
   ]
  },
  {
   "cell_type": "code",
   "execution_count": null,
   "metadata": {},
   "outputs": [
    {
     "name": "stdout",
     "output_type": "stream",
     "text": [
      "Median: 5.0\n"
     ]
    }
   ],
   "source": [
    "# Calculate the median of array elements\n",
    "median_result = np.median(arr)\n",
    "print(\"Median:\", median_result)"
   ]
  },
  {
   "cell_type": "markdown",
   "metadata": {},
   "source": [
    "- `np.std`: Calculates the standard deviation of array elements along a specified axis or over the entire array.\n",
    "\n",
    "https://numpy.org/doc/stable/reference/generated/numpy.std.html"
   ]
  },
  {
   "cell_type": "code",
   "execution_count": null,
   "metadata": {},
   "outputs": [
    {
     "name": "stdout",
     "output_type": "stream",
     "text": [
      "Standard Deviation: 2.581988897471611\n"
     ]
    }
   ],
   "source": [
    "# Calculate the standard deviation of array elements\n",
    "std_result = np.std(arr)\n",
    "print(\"Standard Deviation:\", std_result)"
   ]
  },
  {
   "cell_type": "markdown",
   "metadata": {},
   "source": [
    "- `np.min`: Finds the minimum value among array elements along a specified axis or over the entire array.\n",
    "\n",
    "https://numpy.org/doc/stable/reference/generated/numpy.min.html"
   ]
  },
  {
   "cell_type": "code",
   "execution_count": null,
   "metadata": {},
   "outputs": [
    {
     "name": "stdout",
     "output_type": "stream",
     "text": [
      "Minimum: 1\n"
     ]
    }
   ],
   "source": [
    "# Find the minimum value in the array\n",
    "min_result = np.min(arr)\n",
    "print(\"Minimum:\", min_result)"
   ]
  },
  {
   "cell_type": "markdown",
   "metadata": {},
   "source": [
    "- `np.max`: Finds the maximum value among array elements along a specified axis or over the entire array.\n",
    "\n",
    "https://numpy.org/doc/stable/reference/generated/numpy.max.html"
   ]
  },
  {
   "cell_type": "code",
   "execution_count": null,
   "metadata": {},
   "outputs": [
    {
     "name": "stdout",
     "output_type": "stream",
     "text": [
      "Maximum: 9\n"
     ]
    }
   ],
   "source": [
    "# Find the maximum value in the array\n",
    "max_result = np.max(arr)\n",
    "print(\"Maximum:\", max_result)"
   ]
  },
  {
   "cell_type": "markdown",
   "metadata": {},
   "source": [
    "**6. Array Manipulation:**"
   ]
  },
  {
   "cell_type": "markdown",
   "metadata": {},
   "source": [
    "- `ndarray.reshape()`: Reshapes an ndarray to a specified new shape while maintaining the original data. The total number of elements must remain unchanged.\n",
    "\n",
    "https://numpy.org/doc/stable/reference/generated/numpy.ndarray.reshape.html"
   ]
  },
  {
   "cell_type": "code",
   "execution_count": null,
   "metadata": {},
   "outputs": [
    {
     "name": "stdout",
     "output_type": "stream",
     "text": [
      "Reshaped Array:\n",
      "[[1 2]\n",
      " [3 4]\n",
      " [5 6]]\n"
     ]
    }
   ],
   "source": [
    "import numpy as np\n",
    "\n",
    "# Create a 2D array\n",
    "arr = np.array([[1, 2, 3], [4, 5, 6]])\n",
    "\n",
    "# Reshape the array to a different shape\n",
    "reshaped_arr = arr.reshape(3, 2)  # Reshaping to 3 rows, 2 columns\n",
    "print(\"Reshaped Array:\")\n",
    "print(reshaped_arr)"
   ]
  },
  {
   "cell_type": "markdown",
   "metadata": {},
   "source": [
    "- `ndarray.transpose()`: Transposes the dimensions of an ndarray, effectively flipping rows and columns.\n",
    "\n",
    "https://numpy.org/doc/stable/reference/generated/numpy.ndarray.transpose.html"
   ]
  },
  {
   "cell_type": "code",
   "execution_count": null,
   "metadata": {},
   "outputs": [
    {
     "name": "stdout",
     "output_type": "stream",
     "text": [
      "Transposed Array:\n",
      "[[1 4]\n",
      " [2 5]\n",
      " [3 6]]\n"
     ]
    }
   ],
   "source": [
    "# Transpose the array\n",
    "transposed_arr = arr.transpose()  # Transpose rows and columns\n",
    "print(\"Transposed Array:\")\n",
    "print(transposed_arr)"
   ]
  },
  {
   "cell_type": "markdown",
   "metadata": {},
   "source": [
    "**7. Loading and Saving Data**"
   ]
  },
  {
   "cell_type": "markdown",
   "metadata": {},
   "source": [
    "- `np.load`: Loads and returns an ndarray or a dictionary of ndarrays from a binary file (usually with a `.npy` extension) created using np.save.\n",
    "\n",
    "https://numpy.org/doc/stable/reference/generated/numpy.load.html"
   ]
  },
  {
   "cell_type": "code",
   "execution_count": null,
   "metadata": {},
   "outputs": [
    {
     "name": "stdout",
     "output_type": "stream",
     "text": [
      "Original Array: [1 2 3 4 5]\n"
     ]
    }
   ],
   "source": [
    "# Create an ndarray\n",
    "arr = np.array([1, 2, 3, 4, 5])\n",
    "\n",
    "# Save the ndarray to a file\n",
    "np.save('saved_array.npy', arr)\n",
    "\n",
    "\n",
    "print(\"Original Array:\", arr)"
   ]
  },
  {
   "cell_type": "markdown",
   "metadata": {},
   "source": [
    "- `np.save`: Saves an ndarray or a dictionary of ndarrays to a binary file with the `.npy` extension, preserving the data and metadata of the array(s).\n",
    "\n",
    "https://numpy.org/doc/stable/reference/generated/numpy.save.html"
   ]
  },
  {
   "cell_type": "code",
   "execution_count": null,
   "metadata": {},
   "outputs": [
    {
     "name": "stdout",
     "output_type": "stream",
     "text": [
      "Loaded Array: [1 2 3 4 5]\n"
     ]
    }
   ],
   "source": [
    "# Load the saved ndarray from the file\n",
    "loaded_arr = np.load('saved_array.npy')\n",
    "\n",
    "print(\"Loaded Array:\", loaded_arr)"
   ]
  },
  {
   "cell_type": "markdown",
   "metadata": {},
   "source": [
    "**8. Handling Missing Data:**"
   ]
  },
  {
   "cell_type": "markdown",
   "metadata": {},
   "source": [
    "- `np.nan`: Represents a floating-point \"Not a Number\" value, often used to indicate missing or undefined data in arrays.\n",
    "\n",
    "https://numpy.org/doc/stable/reference/constants.html#numpy.nan"
   ]
  },
  {
   "cell_type": "code",
   "execution_count": null,
   "metadata": {},
   "outputs": [],
   "source": [
    "# Create an array with NaN values\n",
    "arr_with_nan = np.array([1.0, np.nan, 3.0, np.nan, 5.0])"
   ]
  },
  {
   "cell_type": "markdown",
   "metadata": {},
   "source": [
    "- `np.isnan`: Returns a boolean array indicating which elements of an array are NaN (Not a Number).\n",
    "\n",
    "\n",
    "https://numpy.org/doc/stable/reference/generated/numpy.isnan.html"
   ]
  },
  {
   "cell_type": "code",
   "execution_count": null,
   "metadata": {},
   "outputs": [
    {
     "name": "stdout",
     "output_type": "stream",
     "text": [
      "NaN Mask: [False  True False  True False]\n"
     ]
    }
   ],
   "source": [
    "# Check for NaN values using np.isnan\n",
    "nan_mask = np.isnan(arr_with_nan)\n",
    "print(\"NaN Mask:\", nan_mask)"
   ]
  },
  {
   "cell_type": "markdown",
   "metadata": {},
   "source": [
    "- `np.where`: Returns the indices where a specified condition is met in an array, or returns values from two arrays based on a condition.\n",
    "\n",
    "https://numpy.org/doc/stable/reference/generated/numpy.where.html"
   ]
  },
  {
   "cell_type": "code",
   "execution_count": null,
   "metadata": {},
   "outputs": [
    {
     "name": "stdout",
     "output_type": "stream",
     "text": [
      "Indices where condition is True: (array([0, 2, 4], dtype=int64),)\n",
      "Values based on condition: [1. 0. 3. 0. 5.]\n"
     ]
    }
   ],
   "source": [
    "# Create an array with conditions\n",
    "condition = np.array([True, False, True, False, True])\n",
    "\n",
    "# Use np.where to get indices where the condition is True\n",
    "indices = np.where(condition)\n",
    "print(\"Indices where condition is True:\", indices)\n",
    "\n",
    "# Use np.where to get values based on a condition\n",
    "values = np.where(condition, arr_with_nan, 0)\n",
    "print(\"Values based on condition:\", values)"
   ]
  }
 ],
 "metadata": {
  "kernelspec": {
   "display_name": "Python 3 (ipykernel)",
   "language": "python",
   "name": "python3"
  },
  "language_info": {
   "codemirror_mode": {
    "name": "ipython",
    "version": 3
   },
   "file_extension": ".py",
   "mimetype": "text/x-python",
   "name": "python",
   "nbconvert_exporter": "python",
   "pygments_lexer": "ipython3",
   "version": "3.12.3"
  }
 },
 "nbformat": 4,
 "nbformat_minor": 5
}
