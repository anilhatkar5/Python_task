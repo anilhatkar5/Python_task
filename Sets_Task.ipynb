{
 "cells": [
  {
   "cell_type": "markdown",
   "id": "4a17a18b-51ff-47f1-b752-49e36c2b3c63",
   "metadata": {},
   "source": [
    "# Set\n",
    "*Set  are unordered collections of unique elements. They are similar to lists in terms of storing elements, but unlike lists, sets cannot contain duplicate entries."
   ]
  },
  {
   "cell_type": "code",
   "execution_count": 2,
   "id": "24ab7afd-b827-4a48-8c23-19aabe183010",
   "metadata": {},
   "outputs": [
    {
     "name": "stdout",
     "output_type": "stream",
     "text": [
      "<class 'set'>\n",
      "{1, 2, 3, 4, 5, 6, 7, 8, 9, 10}\n"
     ]
    }
   ],
   "source": [
    "Set = {1,2,3,4,5,6,7,8,9,10 }\n",
    "print(type(Set))\n",
    "print(Set)"
   ]
  },
  {
   "cell_type": "markdown",
   "id": "5b66a5f8-20db-495f-97df-7b349107999d",
   "metadata": {},
   "source": [
    "# eq (==)\n",
    "* The eq function is use to compair the sets."
   ]
  },
  {
   "cell_type": "code",
   "execution_count": 7,
   "id": "769d1429-1c71-4880-8388-17752ca83e04",
   "metadata": {},
   "outputs": [
    {
     "data": {
      "text/plain": [
       "True"
      ]
     },
     "execution_count": 7,
     "metadata": {},
     "output_type": "execute_result"
    }
   ],
   "source": [
    "S1 = {1,2,3,4,5,6 }\n",
    "S2 = {'a'}\n",
    "S3 = {'a'}\n",
    "S2==S3"
   ]
  },
  {
   "cell_type": "markdown",
   "id": "08221cfe-be7f-4847-8b9c-6fd678155b6e",
   "metadata": {},
   "source": [
    "# add(+)\n",
    "* The add fuction is use to add elements in sets."
   ]
  },
  {
   "cell_type": "code",
   "execution_count": 11,
   "id": "0cbeb5e9-f0dd-4662-a776-60354c99e006",
   "metadata": {},
   "outputs": [
    {
     "name": "stdout",
     "output_type": "stream",
     "text": [
      "{1, 2, 3, 4, 5}\n"
     ]
    }
   ],
   "source": [
    "S4 = {1,2,3,4}\n",
    "S4.add(5)\n",
    "print(S4)"
   ]
  },
  {
   "cell_type": "markdown",
   "id": "905c91e1-f435-4b4c-8a71-d8e3f0654658",
   "metadata": {},
   "source": [
    "# clear\n",
    "* The clear function is ude to remove all element from the set."
   ]
  },
  {
   "cell_type": "code",
   "execution_count": 13,
   "id": "aec7cfc8-bac4-4932-a68d-c13a7e1e30bb",
   "metadata": {},
   "outputs": [
    {
     "name": "stdout",
     "output_type": "stream",
     "text": [
      "set()\n"
     ]
    }
   ],
   "source": [
    "S5 = {1,2,3,4,5,6,7,8}\n",
    "S5.clear()\n",
    "print(S5)"
   ]
  },
  {
   "cell_type": "markdown",
   "id": "082b34b7-4b3a-4fb8-84ef-1b7b5a8ea989",
   "metadata": {},
   "source": [
    "# copy \n",
    "* The copy function use to capy the set."
   ]
  },
  {
   "cell_type": "code",
   "execution_count": 14,
   "id": "52c76b0c-27ac-4827-89c2-1b8ea8590d9a",
   "metadata": {},
   "outputs": [
    {
     "name": "stdout",
     "output_type": "stream",
     "text": [
      "{'B', 'A', 'C', 'D'}\n"
     ]
    },
    {
     "data": {
      "text/plain": [
       "{'A', 'B', 'C', 'D'}"
      ]
     },
     "execution_count": 14,
     "metadata": {},
     "output_type": "execute_result"
    }
   ],
   "source": [
    "S6 = {'A','B','C','D'}\n",
    "print(S6)\n",
    "S6.copy()"
   ]
  },
  {
   "cell_type": "markdown",
   "id": "b6e80025-8e32-469d-bfd1-413f6aa081af",
   "metadata": {},
   "source": [
    "# difference\n",
    "* The difference function is use to calculte the diffrece between sets. it represent the only first set."
   ]
  },
  {
   "cell_type": "code",
   "execution_count": 15,
   "id": "23da806d-8dcd-443d-a575-779c77e98aa1",
   "metadata": {},
   "outputs": [
    {
     "name": "stdout",
     "output_type": "stream",
     "text": [
      "{1, 3}\n"
     ]
    }
   ],
   "source": [
    "S8 = {1,2,3,4}\n",
    "S9 = {2,4,6,8}\n",
    "difference = S8 - S9\n",
    "print(difference)"
   ]
  },
  {
   "cell_type": "code",
   "execution_count": 17,
   "id": "b7839b6c-b3b3-471e-a001-a625e662c3f7",
   "metadata": {},
   "outputs": [
    {
     "name": "stdout",
     "output_type": "stream",
     "text": [
      "{1, 3}\n"
     ]
    }
   ],
   "source": [
    "difference1 = S8.difference(S9)\n",
    "print(difference1)"
   ]
  },
  {
   "cell_type": "markdown",
   "id": "cbf0b8d1-d658-49d1-aa79-6556af7e64e2",
   "metadata": {},
   "source": [
    "# difference_update\n",
    "* The difference_update is use to remove the element that are already present in another set."
   ]
  },
  {
   "cell_type": "code",
   "execution_count": 19,
   "id": "5a8730a5-6836-4571-9851-97286ee14228",
   "metadata": {},
   "outputs": [
    {
     "name": "stdout",
     "output_type": "stream",
     "text": [
      "{'C', 'A'}\n"
     ]
    }
   ],
   "source": [
    "S10 = {'A','B','C','D'}\n",
    "S11 = {'a','B','c','D'}\n",
    "S10.difference_update(S11)\n",
    "print(S10)"
   ]
  },
  {
   "cell_type": "markdown",
   "id": "8cfdc9bd-ba95-4803-9603-b4fe82504a16",
   "metadata": {},
   "source": [
    "# discard\n",
    "* The discard function is use remove element of the set."
   ]
  },
  {
   "cell_type": "code",
   "execution_count": 21,
   "id": "5291d8a7-8d46-4c20-bb3e-fbcca281d424",
   "metadata": {},
   "outputs": [
    {
     "name": "stdout",
     "output_type": "stream",
     "text": [
      "{50, 20, 10, 60, 30}\n"
     ]
    },
    {
     "data": {
      "text/plain": [
       "{10, 20, 30, 50, 60}"
      ]
     },
     "execution_count": 21,
     "metadata": {},
     "output_type": "execute_result"
    }
   ],
   "source": [
    "S12 = {10,20,30,40,50,60}\n",
    "S12.discard(40)\n",
    "print(S12)\n",
    "S12"
   ]
  },
  {
   "cell_type": "code",
   "execution_count": 25,
   "id": "b83007d7-d5a3-4aa7-8524-221f4ec65265",
   "metadata": {},
   "outputs": [
    {
     "name": "stdout",
     "output_type": "stream",
     "text": [
      "{1, 2, 3, 5, 6, 7}\n"
     ]
    },
    {
     "data": {
      "text/plain": [
       "{1, 2, 3, 5, 6, 7}"
      ]
     },
     "execution_count": 25,
     "metadata": {},
     "output_type": "execute_result"
    }
   ],
   "source": [
    "s12 = {1,2,3,4,5,6,7}\n",
    "s12.discard(4)\n",
    "print(s12)\n",
    "s12"
   ]
  },
  {
   "cell_type": "markdown",
   "id": "bf6d142c-5405-4448-91f7-1c06d4e21834",
   "metadata": {},
   "source": [
    "# intersection\n",
    "* Return the intersection of two sets as a new set."
   ]
  },
  {
   "cell_type": "code",
   "execution_count": 26,
   "id": "997b9e74-8779-483f-8852-df9b7aa44f23",
   "metadata": {},
   "outputs": [
    {
     "data": {
      "text/plain": [
       "{2, 4, 6}"
      ]
     },
     "execution_count": 26,
     "metadata": {},
     "output_type": "execute_result"
    }
   ],
   "source": [
    "S13 = {1,2,3,4,5,6}\n",
    "S14 = {2,4,6,8,10,12}\n",
    "S13.intersection(S14)"
   ]
  },
  {
   "cell_type": "markdown",
   "id": "69ec168d-45a5-4cf7-acfa-6f6212317f60",
   "metadata": {},
   "source": [
    "# intersection_update\n",
    "*  The intersection_update is use to remove the element that are not present in another set."
   ]
  },
  {
   "cell_type": "code",
   "execution_count": 31,
   "id": "3a70db75-8d6e-47ad-95e8-5c6496d6e55d",
   "metadata": {},
   "outputs": [
    {
     "data": {
      "text/plain": [
       "{'A', 'B'}"
      ]
     },
     "execution_count": 31,
     "metadata": {},
     "output_type": "execute_result"
    }
   ],
   "source": [
    "S15 = {'A','B','C','D'}\n",
    "S16 = {'A','b','B','c'}\n",
    "S15.intersection_update(S16)\n",
    "S15"
   ]
  },
  {
   "cell_type": "markdown",
   "id": "61743dfd-1576-47a8-a67a-c875e1c4892f",
   "metadata": {},
   "source": [
    "# pop \n",
    "* It Removes and returns an arbitrary element from the set."
   ]
  },
  {
   "cell_type": "code",
   "execution_count": 35,
   "id": "96f75590-91dd-4028-bd7b-86b3f05eecb5",
   "metadata": {},
   "outputs": [
    {
     "data": {
      "text/plain": [
       "{11, 22, 44, 55, 66, 77}"
      ]
     },
     "execution_count": 35,
     "metadata": {},
     "output_type": "execute_result"
    }
   ],
   "source": [
    "S17 = {11,22,33,44,55,66,77}\n",
    "S17.pop()\n",
    "S17"
   ]
  },
  {
   "cell_type": "markdown",
   "id": "9d6d2720-3b27-43df-950c-e6cacc7372fc",
   "metadata": {},
   "source": [
    "# union \n",
    "* Return the union of sets as a new set."
   ]
  },
  {
   "cell_type": "code",
   "execution_count": 38,
   "id": "99a7e5e4-d2c4-4b4c-87b2-a137e1f7b8e4",
   "metadata": {},
   "outputs": [
    {
     "data": {
      "text/plain": [
       "{1, 2, 3, 4, 5, 6, 7, 8, 9, 10, 11, 13, 15, 17, 19}"
      ]
     },
     "execution_count": 38,
     "metadata": {},
     "output_type": "execute_result"
    }
   ],
   "source": [
    "S18 = {1,2,3,4,5,6,7,8,9,10,11}\n",
    "S19 = {1,3,5,7,9,11,13,15,17,19}\n",
    "S18.union(S19)"
   ]
  }
 ],
 "metadata": {
  "kernelspec": {
   "display_name": "Python 3 (ipykernel)",
   "language": "python",
   "name": "python3"
  },
  "language_info": {
   "codemirror_mode": {
    "name": "ipython",
    "version": 3
   },
   "file_extension": ".py",
   "mimetype": "text/x-python",
   "name": "python",
   "nbconvert_exporter": "python",
   "pygments_lexer": "ipython3",
   "version": "3.12.3"
  }
 },
 "nbformat": 4,
 "nbformat_minor": 5
}
