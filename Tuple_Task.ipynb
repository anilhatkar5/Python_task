{
 "cells": [
  {
   "cell_type": "code",
   "execution_count": 2,
   "id": "46417f61-fc0b-458c-a317-50455f959928",
   "metadata": {},
   "outputs": [
    {
     "name": "stdout",
     "output_type": "stream",
     "text": [
      "('a', 'b', 'c', 'd')\n"
     ]
    },
    {
     "data": {
      "text/plain": [
       "tuple"
      ]
     },
     "execution_count": 2,
     "metadata": {},
     "output_type": "execute_result"
    }
   ],
   "source": [
    "t1 = ('a','b','c','d')\n",
    "print(t1)\n",
    "type(t1)"
   ]
  },
  {
   "cell_type": "markdown",
   "id": "fab80929-f8d8-432c-a55b-8ef1d749164e",
   "metadata": {},
   "source": [
    "# add\n",
    "* The add fuction is used to add to or more element of tuple"
   ]
  },
  {
   "cell_type": "code",
   "execution_count": 4,
   "id": "f518e919-9512-4fb6-8ada-f4d085c9316f",
   "metadata": {},
   "outputs": [
    {
     "name": "stdout",
     "output_type": "stream",
     "text": [
      "(1, 2, 3, 4, 5, 'a', 'b', 'c', 'd')\n"
     ]
    }
   ],
   "source": [
    "T1 = (1,2,3,4,5)\n",
    "T2 = ('a','b','c','d')\n",
    "print(T1+T2)"
   ]
  },
  {
   "cell_type": "markdown",
   "id": "30987019-ea72-4f2c-a7c3-bfb42c57545e",
   "metadata": {},
   "source": [
    "# mul (*)\n",
    "* The mul function is used to multiple the element of tuple"
   ]
  },
  {
   "cell_type": "code",
   "execution_count": 10,
   "id": "cd83e407-ecdc-4796-80b4-85fb55615778",
   "metadata": {},
   "outputs": [
    {
     "name": "stdout",
     "output_type": "stream",
     "text": [
      "(18, 72)\n"
     ]
    }
   ],
   "source": [
    "T6 = (3*6,8*9)\n",
    "print(T6)"
   ]
  },
  {
   "cell_type": "markdown",
   "id": "3fc8cb76-cbbf-4130-b958-d88ad37bb010",
   "metadata": {},
   "source": [
    "# eq (==)\n",
    "* The eq fuction is used to compair the tuple"
   ]
  },
  {
   "cell_type": "code",
   "execution_count": 7,
   "id": "199c0523-c0bd-44d8-bc03-779f58e07fac",
   "metadata": {},
   "outputs": [
    {
     "name": "stdout",
     "output_type": "stream",
     "text": [
      "False\n",
      "True\n"
     ]
    }
   ],
   "source": [
    "T3 = ('a')\n",
    "T4 = ('b')\n",
    "T5 = ('a')\n",
    "\n",
    "print(T3==T4)\n",
    "print(T3==T5)"
   ]
  },
  {
   "cell_type": "markdown",
   "id": "a5a7192e-bf85-41c7-9b1c-6ceb9eb70ef4",
   "metadata": {},
   "source": [
    "# len \n",
    "* the len fucntion is use to detemine the lenght of element of tuple"
   ]
  },
  {
   "cell_type": "code",
   "execution_count": 16,
   "id": "eacf4626-779c-4df5-87b4-c34878c0ac54",
   "metadata": {},
   "outputs": [
    {
     "name": "stdout",
     "output_type": "stream",
     "text": [
      "(1, 2, 3, 4)\n",
      "4\n"
     ]
    }
   ],
   "source": [
    "T8 = (1,2,3,4)\n",
    "print(T8)\n",
    "print(len(T8))"
   ]
  }
 ],
 "metadata": {
  "kernelspec": {
   "display_name": "Python 3 (ipykernel)",
   "language": "python",
   "name": "python3"
  },
  "language_info": {
   "codemirror_mode": {
    "name": "ipython",
    "version": 3
   },
   "file_extension": ".py",
   "mimetype": "text/x-python",
   "name": "python",
   "nbconvert_exporter": "python",
   "pygments_lexer": "ipython3",
   "version": "3.12.3"
  }
 },
 "nbformat": 4,
 "nbformat_minor": 5
}
