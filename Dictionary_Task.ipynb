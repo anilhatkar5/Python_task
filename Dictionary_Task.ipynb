{
 "cells": [
  {
   "cell_type": "markdown",
   "id": "b21ecbae-c959-4e75-95e1-b5d6d95b80bc",
   "metadata": {},
   "source": [
    "# Dictionary\n",
    "*  Dictionary is a collection of key-value pairs. It is defined using curly braces {}, with each key-value pair separated by a colon ':'."
   ]
  },
  {
   "cell_type": "markdown",
   "id": "f2eb6496-e623-4a60-9142-283b7aa97190",
   "metadata": {},
   "source": [
    "# eq (==)\n",
    "* The eq fuction is use to compiar the element of dictionary."
   ]
  },
  {
   "cell_type": "code",
   "execution_count": 5,
   "id": "1af7a7d2-9324-4aba-b79d-e456695bf6c8",
   "metadata": {},
   "outputs": [
    {
     "name": "stdout",
     "output_type": "stream",
     "text": [
      "False\n",
      "False\n"
     ]
    }
   ],
   "source": [
    "Di1 = {'A':10}\n",
    "Di2 = {'B':20}\n",
    "Di3 = {'C':10}\n",
    "print(Di1==Di2)\n",
    "print(Di1==Di3)     \n"
   ]
  },
  {
   "cell_type": "markdown",
   "id": "5317d2de-6d77-430d-9575-fc1499d259eb",
   "metadata": {},
   "source": [
    "# del\n",
    "* The del function is use to delete data or element of the specific position of dictionary."
   ]
  },
  {
   "cell_type": "code",
   "execution_count": 9,
   "id": "95f30915-590b-4a9a-9178-367e431ceead",
   "metadata": {},
   "outputs": [
    {
     "name": "stdout",
     "output_type": "stream",
     "text": [
      "{'age': 22, 'batch': 'da4', 'shift': 'morning', 'time': '08:30AM'}\n"
     ]
    }
   ],
   "source": [
    "D1 = { 'name': 'a', 'age':22, 'batch':'da4', 'shift':'morning', 'time': '08:30AM' }\n",
    "del D1['name']\n",
    "print(D1)"
   ]
  },
  {
   "cell_type": "markdown",
   "id": "fe054bf6-5a18-45b6-a508-6f7a8d935782",
   "metadata": {},
   "source": [
    "# len\n",
    "* The len function is used to determine the lenght of dictionary."
   ]
  },
  {
   "cell_type": "code",
   "execution_count": 15,
   "id": "e4807023-ca66-4978-8905-7304c74b1fa9",
   "metadata": {},
   "outputs": [
    {
     "name": "stdout",
     "output_type": "stream",
     "text": [
      "{'a': 1, 'b': 2, 'c': 3, 'd': 4}\n",
      "4\n"
     ]
    }
   ],
   "source": [
    "D2 = {'a':1, 'b':2, 'c':3, 'd':4}\n",
    "print(D2)\n",
    "print(len(D2))"
   ]
  },
  {
   "cell_type": "markdown",
   "id": "68400648-fed0-488d-a6f7-ed2bd3a15f4c",
   "metadata": {},
   "source": [
    "# copy \n",
    "* The copy function is use copy the given dictionary."
   ]
  },
  {
   "cell_type": "code",
   "execution_count": 26,
   "id": "4257eca6-e898-4379-b48d-074891f95ff5",
   "metadata": {},
   "outputs": [
    {
     "data": {
      "text/plain": [
       "{'sub1': 'math', 'sub2': 'english', 'sub3': 'physics'}"
      ]
     },
     "execution_count": 26,
     "metadata": {},
     "output_type": "execute_result"
    }
   ],
   "source": [
    "D3 = { 'sub1':'math', 'sub2':'english','sub3':'physics'}\n",
    "D3.copy()"
   ]
  },
  {
   "cell_type": "markdown",
   "id": "27aa3ffb-bdf8-47ea-ac3e-29ed8fd8c5e2",
   "metadata": {},
   "source": [
    "# clear \n",
    "* The clear fuction is used to remove all the data from the dictionary."
   ]
  },
  {
   "cell_type": "code",
   "execution_count": 28,
   "id": "f09827a5-0d6b-49a0-88e7-efe97a50e086",
   "metadata": {},
   "outputs": [
    {
     "name": "stdout",
     "output_type": "stream",
     "text": [
      "{}\n"
     ]
    }
   ],
   "source": [
    "D4 = { 'name':'abcd'}\n",
    "D4.clear()\n",
    "print(D4)"
   ]
  },
  {
   "cell_type": "markdown",
   "id": "f1d425ec-7529-4020-b7d1-44b174c75c41",
   "metadata": {},
   "source": [
    "# keys \n",
    "* The keys fuction is use to retrieve all the keys of the dictionary."
   ]
  },
  {
   "cell_type": "code",
   "execution_count": 32,
   "id": "dd5c1a02-7f20-415b-b923-7bfb737ab9cd",
   "metadata": {},
   "outputs": [
    {
     "data": {
      "text/plain": [
       "dict_keys(['fn1', 'fn2', 'fn3'])"
      ]
     },
     "execution_count": 32,
     "metadata": {},
     "output_type": "execute_result"
    }
   ],
   "source": [
    "D5 = {'fn1':'banana','fn2':'apple','fn3':'orenge'}\n",
    "D5.keys()"
   ]
  }
 ],
 "metadata": {
  "kernelspec": {
   "display_name": "Python 3 (ipykernel)",
   "language": "python",
   "name": "python3"
  },
  "language_info": {
   "codemirror_mode": {
    "name": "ipython",
    "version": 3
   },
   "file_extension": ".py",
   "mimetype": "text/x-python",
   "name": "python",
   "nbconvert_exporter": "python",
   "pygments_lexer": "ipython3",
   "version": "3.12.3"
  }
 },
 "nbformat": 4,
 "nbformat_minor": 5
}
