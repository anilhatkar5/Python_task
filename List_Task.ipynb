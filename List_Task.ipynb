{
 "cells": [
  {
   "cell_type": "markdown",
   "id": "214fd35b-b646-4b09-aca7-b32e89c1d347",
   "metadata": {},
   "source": [
    "# Add(+)\n",
    "* The add fuction use to add two or more elements of list"
   ]
  },
  {
   "cell_type": "code",
   "execution_count": 3,
   "id": "af19c0fe-6250-4015-8509-fbc978ddf49f",
   "metadata": {},
   "outputs": [
    {
     "name": "stdout",
     "output_type": "stream",
     "text": [
      "([5], [6], 5)\n"
     ]
    }
   ],
   "source": [
    "L1 = [2+3],[1+2+3],5\n",
    "print(L1)"
   ]
  },
  {
   "cell_type": "markdown",
   "id": "0e7324fa-4323-40fb-92fb-d4c56a9bb4b7",
   "metadata": {},
   "source": [
    "# mul (*)\n",
    "* the mul fuction use to multiple two or more elements of list"
   ]
  },
  {
   "cell_type": "code",
   "execution_count": 13,
   "id": "1fb712c1-e577-484b-b31f-12d803ad8e20",
   "metadata": {},
   "outputs": [
    {
     "name": "stdout",
     "output_type": "stream",
     "text": [
      "[6, 20, 72]\n"
     ]
    }
   ],
   "source": [
    "l1 = [2*3,4*5,8*9]\n",
    "print(l1)"
   ]
  },
  {
   "cell_type": "markdown",
   "id": "4e1948cd-6ad5-418e-af3a-6d602971b65d",
   "metadata": {},
   "source": [
    "# del\n",
    "* the del function is used to delete any data in specific position of list."
   ]
  },
  {
   "cell_type": "code",
   "execution_count": 11,
   "id": "1758248c-ee38-4fce-bf22-fd64ec536248",
   "metadata": {},
   "outputs": [
    {
     "name": "stdout",
     "output_type": "stream",
     "text": [
      "[0, 1, 2, 3, 4, 6, 7, 8, 9, 10]\n"
     ]
    }
   ],
   "source": [
    "L2 = [0,1,2,3,4,5,6,7,8,9,10]\n",
    "del L2[5]\n",
    "print(L2)"
   ]
  },
  {
   "cell_type": "markdown",
   "id": "5fa345e0-dcf5-4988-9e91-31d1b3bb2d33",
   "metadata": {},
   "source": [
    "# eq (==)\n",
    "* eq is a predifined function which is used to compair the elements or data of list"
   ]
  },
  {
   "cell_type": "code",
   "execution_count": 7,
   "id": "c3e8c361-7fed-48a2-9904-34f00d53dffb",
   "metadata": {},
   "outputs": [
    {
     "data": {
      "text/plain": [
       "True"
      ]
     },
     "execution_count": 7,
     "metadata": {},
     "output_type": "execute_result"
    }
   ],
   "source": [
    "12==12"
   ]
  },
  {
   "cell_type": "code",
   "execution_count": 8,
   "id": "bf662b0d-785b-4440-858f-3724b03959f0",
   "metadata": {},
   "outputs": [
    {
     "data": {
      "text/plain": [
       "False"
      ]
     },
     "execution_count": 8,
     "metadata": {},
     "output_type": "execute_result"
    }
   ],
   "source": [
    "'A1'=='A2'"
   ]
  },
  {
   "cell_type": "markdown",
   "id": "68edf255-6383-4750-92a7-de3dd05968c7",
   "metadata": {},
   "source": [
    "# len\n",
    "* len function is used to determine the length of object of list"
   ]
  },
  {
   "cell_type": "code",
   "execution_count": 9,
   "id": "261c4b31-b652-4fbf-b59e-f5de93862809",
   "metadata": {},
   "outputs": [
    {
     "name": "stdout",
     "output_type": "stream",
     "text": [
      "[1, 2, 3, 4, 5, 6, 7, 8, 9, 10, 11]\n",
      "11\n"
     ]
    }
   ],
   "source": [
    "L3 = [1,2,3,4,5,6,7,8,9,10,11]\n",
    "print(L3)\n",
    "print(len(L3))"
   ]
  },
  {
   "cell_type": "markdown",
   "id": "936f4d46-0295-480d-a90b-516b144fcdbf",
   "metadata": {},
   "source": [
    "# append\n",
    "* The append function is used to insert the elementor data at the last of list"
   ]
  },
  {
   "cell_type": "code",
   "execution_count": 22,
   "id": "071b6faf-edc9-4632-b762-02779479911b",
   "metadata": {},
   "outputs": [
    {
     "name": "stdout",
     "output_type": "stream",
     "text": [
      "[1, 2, 8, 9, 6, 4, 7, 0, 10, 11]\n"
     ]
    }
   ],
   "source": [
    "L4 = [ 1,2,8,9,6,4,7,0,10]\n",
    "L4.append(11)\n",
    "print(L4)"
   ]
  },
  {
   "cell_type": "markdown",
   "id": "7aeeabd1-cb37-4dd0-b319-f88deb1d06ef",
   "metadata": {},
   "source": [
    "# clear \n",
    "* The clear fuction is used to remove all the data from the list"
   ]
  },
  {
   "cell_type": "code",
   "execution_count": 25,
   "id": "aa4e20d2-ed00-43a2-ae53-a641767642eb",
   "metadata": {},
   "outputs": [
    {
     "name": "stdout",
     "output_type": "stream",
     "text": [
      "[]\n"
     ]
    }
   ],
   "source": [
    "L5 = [ 'A','B','C','D']\n",
    "L5.clear()\n",
    "print(L5)"
   ]
  },
  {
   "cell_type": "markdown",
   "id": "9eb3fd66-b837-4619-bfe1-952170166c6d",
   "metadata": {},
   "source": [
    "# copy \n",
    "* The copy function is used to copy the given list."
   ]
  },
  {
   "cell_type": "code",
   "execution_count": 28,
   "id": "10d1e5a4-49d2-4bfa-8852-db142839fb65",
   "metadata": {},
   "outputs": [
    {
     "data": {
      "text/plain": [
       "[10, 20, 30, 40, 50, 60, 70, 80, 90, 100]"
      ]
     },
     "execution_count": 28,
     "metadata": {},
     "output_type": "execute_result"
    }
   ],
   "source": [
    "L6 = [10,20,30,40,50,60,70,80,90,100]\n",
    "L6.copy()"
   ]
  },
  {
   "cell_type": "markdown",
   "id": "a120c08c-f8f3-47a8-b495-70abbdfae793",
   "metadata": {},
   "source": [
    "# count\n",
    "* The count fuction is used to Count the number of element in the list."
   ]
  },
  {
   "cell_type": "code",
   "execution_count": 34,
   "id": "7a058600-219f-470e-9030-d1f384333b7f",
   "metadata": {},
   "outputs": [
    {
     "data": {
      "text/plain": [
       "1"
      ]
     },
     "execution_count": 34,
     "metadata": {},
     "output_type": "execute_result"
    }
   ],
   "source": [
    "L7 = [7]\n",
    "L7.count(7)\n"
   ]
  },
  {
   "cell_type": "markdown",
   "id": "61631023-33ae-42ac-8949-7808912841fe",
   "metadata": {},
   "source": [
    "# insert \n",
    "* insert fuction is used to insert the data or element in specific position of list."
   ]
  },
  {
   "cell_type": "code",
   "execution_count": 37,
   "id": "357d2eb2-f03f-4420-b1df-f0448b6c3815",
   "metadata": {},
   "outputs": [
    {
     "name": "stdout",
     "output_type": "stream",
     "text": [
      "[11, 22, 33, 44, 55, 66, 77, 88]\n"
     ]
    }
   ],
   "source": [
    "L8 = [ 11,22,33,44,55,66,88]\n",
    "L8.insert(6,77)\n",
    "print(L8)"
   ]
  },
  {
   "cell_type": "markdown",
   "id": "5448e22f-aefa-4ca0-bb24-ea605d55e8df",
   "metadata": {},
   "source": [
    "# remove \n",
    "* The remove fuction is used to remove the data or element  of the list."
   ]
  },
  {
   "cell_type": "code",
   "execution_count": 41,
   "id": "79f3c2d2-9675-458b-8eff-5f31bb2dc400",
   "metadata": {},
   "outputs": [
    {
     "name": "stdout",
     "output_type": "stream",
     "text": [
      "[2, 3, 4, 5, 6]\n"
     ]
    }
   ],
   "source": [
    "L9 = [ 1,2,3,4,5,6]\n",
    "L9.remove(1)\n",
    "print(L9)"
   ]
  },
  {
   "cell_type": "markdown",
   "id": "9a406616-fe16-41cc-a074-68a7d932725d",
   "metadata": {},
   "source": [
    "# sort \n",
    "* sort funtion is used to arrenge the data or element of a list (ascending or descending)"
   ]
  },
  {
   "cell_type": "code",
   "execution_count": 44,
   "id": "bcf3d940-334f-45d2-9957-ba4ca83dce42",
   "metadata": {},
   "outputs": [
    {
     "name": "stdout",
     "output_type": "stream",
     "text": [
      "[1, 3, 10, 48, 50, 88, 100, 120]\n"
     ]
    }
   ],
   "source": [
    "# ascending\n",
    "L10 = [ 120,10,50,48,100,1,3,88]\n",
    "L10.sort()\n",
    "print(L10)"
   ]
  },
  {
   "cell_type": "code",
   "execution_count": 48,
   "id": "40b6d409-4649-449f-baec-61415c4fcc54",
   "metadata": {},
   "outputs": [
    {
     "name": "stdout",
     "output_type": "stream",
     "text": [
      "[120, 100, 88, 50, 48, 10, 3, 1]\n"
     ]
    }
   ],
   "source": [
    "# descending\n",
    "L10.sort(reverse = True)\n",
    "print(L10)"
   ]
  }
 ],
 "metadata": {
  "kernelspec": {
   "display_name": "Python 3 (ipykernel)",
   "language": "python",
   "name": "python3"
  },
  "language_info": {
   "codemirror_mode": {
    "name": "ipython",
    "version": 3
   },
   "file_extension": ".py",
   "mimetype": "text/x-python",
   "name": "python",
   "nbconvert_exporter": "python",
   "pygments_lexer": "ipython3",
   "version": "3.12.3"
  }
 },
 "nbformat": 4,
 "nbformat_minor": 5
}
